{
 "cells": [
  {
   "cell_type": "code",
   "id": "initial_id",
   "metadata": {
    "collapsed": true,
    "ExecuteTime": {
     "end_time": "2024-09-26T20:26:28.091204Z",
     "start_time": "2024-09-26T20:26:27.566584Z"
    }
   },
   "source": [
    "import pandas as pd\n",
    "import numpy as np"
   ],
   "outputs": [],
   "execution_count": 3
  },
  {
   "metadata": {
    "ExecuteTime": {
     "end_time": "2024-09-26T20:26:29.052101Z",
     "start_time": "2024-09-26T20:26:29.048835Z"
    }
   },
   "cell_type": "code",
   "source": "chunk_size = 100000",
   "id": "62d616227abc4dac",
   "outputs": [],
   "execution_count": 4
  },
  {
   "metadata": {
    "ExecuteTime": {
     "end_time": "2024-09-26T20:26:30.449636Z",
     "start_time": "2024-09-26T20:26:30.447099Z"
    }
   },
   "cell_type": "code",
   "source": [
    "# Initialize variables for analysis\n",
    "total_rows = 0\n",
    "column_sums = None\n",
    "column_squared_sums = None"
   ],
   "id": "435202c9b6abac00",
   "outputs": [],
   "execution_count": 5
  },
  {
   "metadata": {
    "ExecuteTime": {
     "end_time": "2024-09-26T20:26:31.469312Z",
     "start_time": "2024-09-26T20:26:31.465683Z"
    }
   },
   "cell_type": "code",
   "source": [
    "# Step 3: Read the data in chunks\n",
    "def read_csv_in_chunks(file_path, chunk_size):\n",
    "    for chunk in pd.read_csv(file_path, chunksize=chunk_size):\n",
    "        yield chunk"
   ],
   "id": "975540a43160cb5",
   "outputs": [],
   "execution_count": 6
  },
  {
   "metadata": {
    "ExecuteTime": {
     "end_time": "2024-09-26T18:34:42.985826Z",
     "start_time": "2024-09-26T18:34:42.480513Z"
    }
   },
   "cell_type": "code",
   "source": [
    "# Step 4: Sample 20% of observation\n",
    "labels = pd.read_csv('data/train_labels.csv')\n",
    "sample_labels = labels.sample(frac=0.2, random_state=42)"
   ],
   "id": "b401fcbd7ea719b",
   "outputs": [],
   "execution_count": 8
  },
  {
   "metadata": {
    "ExecuteTime": {
     "end_time": "2024-09-26T18:45:12.751126Z",
     "start_time": "2024-09-26T18:40:24.363556Z"
    }
   },
   "cell_type": "code",
   "source": [
    "# Read data\n",
    "sampled_data = []\n",
    "for chunk in read_csv_in_chunks('data/train_data.csv', chunk_size):\n",
    "    merged_chunk = pd.merge(chunk, sample_labels, on='customer_ID', how='inner')\n",
    "    sampled_data.append(merged_chunk)\n",
    "    \n",
    "# Combine all chunks into a single dataframe\n",
    "development_sample = pd.concat(sampled_data, ignore_index=True)\n",
    "\n",
    "# Save the development sample\n",
    "development_sample.to_csv('data/development_sample.csv', index=False)"
   ],
   "id": "ade08e5e4c931082",
   "outputs": [],
   "execution_count": 10
  },
  {
   "metadata": {
    "ExecuteTime": {
     "end_time": "2024-09-26T20:01:56.955999Z",
     "start_time": "2024-09-26T20:01:35.465964Z"
    }
   },
   "cell_type": "code",
   "source": [
    "# load development_sample\n",
    "data = []\n",
    "for chunk in read_csv_in_chunks('data/development_sample.csv', chunk_size):\n",
    "    data.append(chunk)\n",
    "\n",
    "    "
   ],
   "id": "2c917101ada60f7c",
   "outputs": [],
   "execution_count": 8
  },
  {
   "metadata": {
    "ExecuteTime": {
     "end_time": "2024-09-26T18:57:41.316645Z",
     "start_time": "2024-09-26T18:57:39.949939Z"
    }
   },
   "cell_type": "code",
   "source": [
    "df = pd.concat(data, ignore_index=True)\n",
    "df.head()"
   ],
   "id": "1907398581b9aa5d",
   "outputs": [
    {
     "data": {
      "text/plain": [
       "                                         customer_ID         S_2       P_2  \\\n",
       "0  000098081fde4fd64bc4d503a5d6f86a0aedc425c96f52...  2017-03-11  0.374606   \n",
       "1  000098081fde4fd64bc4d503a5d6f86a0aedc425c96f52...  2017-04-22  0.414269   \n",
       "2  000098081fde4fd64bc4d503a5d6f86a0aedc425c96f52...  2017-05-12  0.413310   \n",
       "3  000098081fde4fd64bc4d503a5d6f86a0aedc425c96f52...  2017-06-10  0.328983   \n",
       "4  000098081fde4fd64bc4d503a5d6f86a0aedc425c96f52...  2017-07-19  0.496989   \n",
       "\n",
       "       D_39       B_1       B_2       R_1       S_3      D_41       B_3  ...  \\\n",
       "0  0.033519  0.044293  1.008622  0.001470  0.459235  0.002339  0.006168  ...   \n",
       "1  0.002516  0.059667  0.123964  0.004374  0.434148  0.001405  0.052130  ...   \n",
       "2  0.003285  0.053418  0.304955  0.002316  0.415906  0.009388  0.048780  ...   \n",
       "3  0.038574  0.049463  0.115654  0.004654  0.416112  0.003223  0.081001  ...   \n",
       "4  0.005552  0.041452  0.133631  0.007363  0.419864  0.003393  0.098308  ...   \n",
       "\n",
       "   D_137  D_138     D_139     D_140     D_141  D_142     D_143     D_144  \\\n",
       "0    NaN    NaN  0.008263  0.006609  0.007370    NaN  0.007171  0.005120   \n",
       "1    NaN    NaN  0.001986  0.004050  0.000796    NaN  0.001802  0.002364   \n",
       "2    NaN    NaN  0.009515  0.008757  0.009219    NaN  0.003134  0.001686   \n",
       "3    NaN    NaN  0.002524  0.007841  0.007421    NaN  0.000728  0.003591   \n",
       "4    NaN    NaN  0.003823  0.009599  0.006957    NaN  0.008746  0.007101   \n",
       "\n",
       "      D_145  target  \n",
       "0  0.007513       0  \n",
       "1  0.003987       0  \n",
       "2  0.001265       0  \n",
       "3  0.007998       0  \n",
       "4  0.006658       0  \n",
       "\n",
       "[5 rows x 191 columns]"
      ],
      "text/html": [
       "<div>\n",
       "<style scoped>\n",
       "    .dataframe tbody tr th:only-of-type {\n",
       "        vertical-align: middle;\n",
       "    }\n",
       "\n",
       "    .dataframe tbody tr th {\n",
       "        vertical-align: top;\n",
       "    }\n",
       "\n",
       "    .dataframe thead th {\n",
       "        text-align: right;\n",
       "    }\n",
       "</style>\n",
       "<table border=\"1\" class=\"dataframe\">\n",
       "  <thead>\n",
       "    <tr style=\"text-align: right;\">\n",
       "      <th></th>\n",
       "      <th>customer_ID</th>\n",
       "      <th>S_2</th>\n",
       "      <th>P_2</th>\n",
       "      <th>D_39</th>\n",
       "      <th>B_1</th>\n",
       "      <th>B_2</th>\n",
       "      <th>R_1</th>\n",
       "      <th>S_3</th>\n",
       "      <th>D_41</th>\n",
       "      <th>B_3</th>\n",
       "      <th>...</th>\n",
       "      <th>D_137</th>\n",
       "      <th>D_138</th>\n",
       "      <th>D_139</th>\n",
       "      <th>D_140</th>\n",
       "      <th>D_141</th>\n",
       "      <th>D_142</th>\n",
       "      <th>D_143</th>\n",
       "      <th>D_144</th>\n",
       "      <th>D_145</th>\n",
       "      <th>target</th>\n",
       "    </tr>\n",
       "  </thead>\n",
       "  <tbody>\n",
       "    <tr>\n",
       "      <th>0</th>\n",
       "      <td>000098081fde4fd64bc4d503a5d6f86a0aedc425c96f52...</td>\n",
       "      <td>2017-03-11</td>\n",
       "      <td>0.374606</td>\n",
       "      <td>0.033519</td>\n",
       "      <td>0.044293</td>\n",
       "      <td>1.008622</td>\n",
       "      <td>0.001470</td>\n",
       "      <td>0.459235</td>\n",
       "      <td>0.002339</td>\n",
       "      <td>0.006168</td>\n",
       "      <td>...</td>\n",
       "      <td>NaN</td>\n",
       "      <td>NaN</td>\n",
       "      <td>0.008263</td>\n",
       "      <td>0.006609</td>\n",
       "      <td>0.007370</td>\n",
       "      <td>NaN</td>\n",
       "      <td>0.007171</td>\n",
       "      <td>0.005120</td>\n",
       "      <td>0.007513</td>\n",
       "      <td>0</td>\n",
       "    </tr>\n",
       "    <tr>\n",
       "      <th>1</th>\n",
       "      <td>000098081fde4fd64bc4d503a5d6f86a0aedc425c96f52...</td>\n",
       "      <td>2017-04-22</td>\n",
       "      <td>0.414269</td>\n",
       "      <td>0.002516</td>\n",
       "      <td>0.059667</td>\n",
       "      <td>0.123964</td>\n",
       "      <td>0.004374</td>\n",
       "      <td>0.434148</td>\n",
       "      <td>0.001405</td>\n",
       "      <td>0.052130</td>\n",
       "      <td>...</td>\n",
       "      <td>NaN</td>\n",
       "      <td>NaN</td>\n",
       "      <td>0.001986</td>\n",
       "      <td>0.004050</td>\n",
       "      <td>0.000796</td>\n",
       "      <td>NaN</td>\n",
       "      <td>0.001802</td>\n",
       "      <td>0.002364</td>\n",
       "      <td>0.003987</td>\n",
       "      <td>0</td>\n",
       "    </tr>\n",
       "    <tr>\n",
       "      <th>2</th>\n",
       "      <td>000098081fde4fd64bc4d503a5d6f86a0aedc425c96f52...</td>\n",
       "      <td>2017-05-12</td>\n",
       "      <td>0.413310</td>\n",
       "      <td>0.003285</td>\n",
       "      <td>0.053418</td>\n",
       "      <td>0.304955</td>\n",
       "      <td>0.002316</td>\n",
       "      <td>0.415906</td>\n",
       "      <td>0.009388</td>\n",
       "      <td>0.048780</td>\n",
       "      <td>...</td>\n",
       "      <td>NaN</td>\n",
       "      <td>NaN</td>\n",
       "      <td>0.009515</td>\n",
       "      <td>0.008757</td>\n",
       "      <td>0.009219</td>\n",
       "      <td>NaN</td>\n",
       "      <td>0.003134</td>\n",
       "      <td>0.001686</td>\n",
       "      <td>0.001265</td>\n",
       "      <td>0</td>\n",
       "    </tr>\n",
       "    <tr>\n",
       "      <th>3</th>\n",
       "      <td>000098081fde4fd64bc4d503a5d6f86a0aedc425c96f52...</td>\n",
       "      <td>2017-06-10</td>\n",
       "      <td>0.328983</td>\n",
       "      <td>0.038574</td>\n",
       "      <td>0.049463</td>\n",
       "      <td>0.115654</td>\n",
       "      <td>0.004654</td>\n",
       "      <td>0.416112</td>\n",
       "      <td>0.003223</td>\n",
       "      <td>0.081001</td>\n",
       "      <td>...</td>\n",
       "      <td>NaN</td>\n",
       "      <td>NaN</td>\n",
       "      <td>0.002524</td>\n",
       "      <td>0.007841</td>\n",
       "      <td>0.007421</td>\n",
       "      <td>NaN</td>\n",
       "      <td>0.000728</td>\n",
       "      <td>0.003591</td>\n",
       "      <td>0.007998</td>\n",
       "      <td>0</td>\n",
       "    </tr>\n",
       "    <tr>\n",
       "      <th>4</th>\n",
       "      <td>000098081fde4fd64bc4d503a5d6f86a0aedc425c96f52...</td>\n",
       "      <td>2017-07-19</td>\n",
       "      <td>0.496989</td>\n",
       "      <td>0.005552</td>\n",
       "      <td>0.041452</td>\n",
       "      <td>0.133631</td>\n",
       "      <td>0.007363</td>\n",
       "      <td>0.419864</td>\n",
       "      <td>0.003393</td>\n",
       "      <td>0.098308</td>\n",
       "      <td>...</td>\n",
       "      <td>NaN</td>\n",
       "      <td>NaN</td>\n",
       "      <td>0.003823</td>\n",
       "      <td>0.009599</td>\n",
       "      <td>0.006957</td>\n",
       "      <td>NaN</td>\n",
       "      <td>0.008746</td>\n",
       "      <td>0.007101</td>\n",
       "      <td>0.006658</td>\n",
       "      <td>0</td>\n",
       "    </tr>\n",
       "  </tbody>\n",
       "</table>\n",
       "<p>5 rows × 191 columns</p>\n",
       "</div>"
      ]
     },
     "execution_count": 13,
     "metadata": {},
     "output_type": "execute_result"
    }
   ],
   "execution_count": 13
  },
  {
   "metadata": {
    "jupyter": {
     "is_executing": true
    },
    "ExecuteTime": {
     "end_time": "2024-09-26T21:11:15.833168Z",
     "start_time": "2024-09-26T20:26:37.248234Z"
    }
   },
   "cell_type": "code",
   "source": [
    "# Step 5: One-hot encoding for categorical variables\n",
    "encoded_chunks = []\n",
    "\n",
    "for chunk in read_csv_in_chunks('data/development_sample.csv', chunk_size):\n",
    "    categorical_columns = chunk.select_dtypes(include='object').columns\n",
    "    encoded_chunk = pd.get_dummies(chunk, columns=categorical_columns)\n",
    "    encoded_chunks.append(encoded_chunk)\n",
    "\n",
    "df_encoded = pd.concat(encoded_chunks, ignore_index=True)"
   ],
   "id": "100dfbdae498d72c",
   "outputs": [],
   "execution_count": null
  },
  {
   "metadata": {
    "ExecuteTime": {
     "end_time": "2024-09-26T20:01:01.699240Z",
     "start_time": "2024-09-26T20:01:01.388632Z"
    }
   },
   "cell_type": "code",
   "source": "",
   "id": "cfd7d78e19f5a930",
   "outputs": [
    {
     "ename": "NameError",
     "evalue": "name 'df' is not defined",
     "output_type": "error",
     "traceback": [
      "\u001B[0;31m---------------------------------------------------------------------------\u001B[0m",
      "\u001B[0;31mNameError\u001B[0m                                 Traceback (most recent call last)",
      "Cell \u001B[0;32mIn[1], line 1\u001B[0m\n\u001B[0;32m----> 1\u001B[0m categorical_columns \u001B[38;5;241m=\u001B[39m df\u001B[38;5;241m.\u001B[39mselect_dtypes(include\u001B[38;5;241m=\u001B[39m\u001B[38;5;124m'\u001B[39m\u001B[38;5;124mobject\u001B[39m\u001B[38;5;124m'\u001B[39m)\u001B[38;5;241m.\u001B[39mcolumns\n\u001B[1;32m      2\u001B[0m categorical_columns\n",
      "\u001B[0;31mNameError\u001B[0m: name 'df' is not defined"
     ]
    }
   ],
   "execution_count": 1
  },
  {
   "metadata": {},
   "cell_type": "code",
   "outputs": [],
   "execution_count": null,
   "source": "",
   "id": "1ac0f26ec1b70a6c"
  }
 ],
 "metadata": {
  "kernelspec": {
   "display_name": "Python 3",
   "language": "python",
   "name": "python3"
  },
  "language_info": {
   "codemirror_mode": {
    "name": "ipython",
    "version": 2
   },
   "file_extension": ".py",
   "mimetype": "text/x-python",
   "name": "python",
   "nbconvert_exporter": "python",
   "pygments_lexer": "ipython2",
   "version": "2.7.6"
  }
 },
 "nbformat": 4,
 "nbformat_minor": 5
}
