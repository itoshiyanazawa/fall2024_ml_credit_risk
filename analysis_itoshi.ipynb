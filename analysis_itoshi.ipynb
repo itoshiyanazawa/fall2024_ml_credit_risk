{
 "cells": [
  {
   "cell_type": "code",
   "id": "initial_id",
   "metadata": {
    "collapsed": true,
    "ExecuteTime": {
     "end_time": "2024-10-07T23:39:09.281765Z",
     "start_time": "2024-10-07T23:39:06.822507Z"
    }
   },
   "source": [
    "import pandas as pd\n",
    "import numpy as np\n",
    "from pandas.core.interchange.from_dataframe import categorical_column_to_series"
   ],
   "outputs": [],
   "execution_count": 1
  },
  {
   "metadata": {
    "ExecuteTime": {
     "end_time": "2024-09-27T04:18:38.444352Z",
     "start_time": "2024-09-26T23:52:07.896510Z"
    }
   },
   "cell_type": "code",
   "source": "chunk_size = 100000",
   "id": "62d616227abc4dac",
   "outputs": [],
   "execution_count": 6
  },
  {
   "metadata": {
    "ExecuteTime": {
     "end_time": "2024-09-26T20:26:30.449636Z",
     "start_time": "2024-09-26T20:26:30.447099Z"
    }
   },
   "cell_type": "code",
   "source": [
    "# Initialize variables for analysis\n",
    "total_rows = 0\n",
    "column_sums = None\n",
    "column_squared_sums = None"
   ],
   "id": "435202c9b6abac00",
   "outputs": [],
   "execution_count": 5
  },
  {
   "metadata": {
    "ExecuteTime": {
     "end_time": "2024-09-26T20:26:31.469312Z",
     "start_time": "2024-09-26T20:26:31.465683Z"
    }
   },
   "cell_type": "code",
   "source": [
    "# Step 3: Read the data in chunks\n",
    "def read_csv_in_chunks(file_path, chunk_size):\n",
    "    for chunk in pd.read_csv(file_path, chunksize=chunk_size):\n",
    "        yield chunk"
   ],
   "id": "975540a43160cb5",
   "outputs": [],
   "execution_count": 6
  },
  {
   "metadata": {
    "ExecuteTime": {
     "end_time": "2024-09-26T18:34:42.985826Z",
     "start_time": "2024-09-26T18:34:42.480513Z"
    }
   },
   "cell_type": "code",
   "source": [
    "# Step 4: Sample 20% of observation\n",
    "labels = pd.read_csv('data/train_labels.csv')\n",
    "sample_labels = labels.sample(frac=0.2, random_state=42)"
   ],
   "id": "b401fcbd7ea719b",
   "outputs": [],
   "execution_count": 8
  },
  {
   "metadata": {
    "ExecuteTime": {
     "end_time": "2024-09-26T18:45:12.751126Z",
     "start_time": "2024-09-26T18:40:24.363556Z"
    }
   },
   "cell_type": "code",
   "source": [
    "# Read data\n",
    "sampled_data = []\n",
    "for chunk in read_csv_in_chunks('data/train_data.csv', chunk_size):\n",
    "    merged_chunk = pd.merge(chunk, sample_labels, on='customer_ID', how='inner')\n",
    "    sampled_data.append(merged_chunk)\n",
    "    \n",
    "# Combine all chunks into a single dataframe\n",
    "development_sample = pd.concat(sampled_data, ignore_index=True)\n",
    "\n",
    "# Save the development sample\n",
    "development_sample.to_csv('data/development_sample.csv', index=False)"
   ],
   "id": "ade08e5e4c931082",
   "outputs": [],
   "execution_count": 10
  },
  {
   "metadata": {
    "ExecuteTime": {
     "end_time": "2024-09-26T20:01:56.955999Z",
     "start_time": "2024-09-26T20:01:35.465964Z"
    }
   },
   "cell_type": "code",
   "source": [
    "# load development_sample\n",
    "data = []\n",
    "for chunk in read_csv_in_chunks('data/development_sample.csv', chunk_size):\n",
    "    data.append(chunk)\n",
    "\n",
    "    "
   ],
   "id": "2c917101ada60f7c",
   "outputs": [],
   "execution_count": 8
  },
  {
   "metadata": {
    "ExecuteTime": {
     "end_time": "2024-09-26T18:57:41.316645Z",
     "start_time": "2024-09-26T18:57:39.949939Z"
    }
   },
   "cell_type": "code",
   "source": [
    "df = pd.concat(data, ignore_index=True)\n",
    "df.head()"
   ],
   "id": "1907398581b9aa5d",
   "outputs": [
    {
     "data": {
      "text/plain": [
       "                                         customer_ID         S_2       P_2  \\\n",
       "0  000098081fde4fd64bc4d503a5d6f86a0aedc425c96f52...  2017-03-11  0.374606   \n",
       "1  000098081fde4fd64bc4d503a5d6f86a0aedc425c96f52...  2017-04-22  0.414269   \n",
       "2  000098081fde4fd64bc4d503a5d6f86a0aedc425c96f52...  2017-05-12  0.413310   \n",
       "3  000098081fde4fd64bc4d503a5d6f86a0aedc425c96f52...  2017-06-10  0.328983   \n",
       "4  000098081fde4fd64bc4d503a5d6f86a0aedc425c96f52...  2017-07-19  0.496989   \n",
       "\n",
       "       D_39       B_1       B_2       R_1       S_3      D_41       B_3  ...  \\\n",
       "0  0.033519  0.044293  1.008622  0.001470  0.459235  0.002339  0.006168  ...   \n",
       "1  0.002516  0.059667  0.123964  0.004374  0.434148  0.001405  0.052130  ...   \n",
       "2  0.003285  0.053418  0.304955  0.002316  0.415906  0.009388  0.048780  ...   \n",
       "3  0.038574  0.049463  0.115654  0.004654  0.416112  0.003223  0.081001  ...   \n",
       "4  0.005552  0.041452  0.133631  0.007363  0.419864  0.003393  0.098308  ...   \n",
       "\n",
       "   D_137  D_138     D_139     D_140     D_141  D_142     D_143     D_144  \\\n",
       "0    NaN    NaN  0.008263  0.006609  0.007370    NaN  0.007171  0.005120   \n",
       "1    NaN    NaN  0.001986  0.004050  0.000796    NaN  0.001802  0.002364   \n",
       "2    NaN    NaN  0.009515  0.008757  0.009219    NaN  0.003134  0.001686   \n",
       "3    NaN    NaN  0.002524  0.007841  0.007421    NaN  0.000728  0.003591   \n",
       "4    NaN    NaN  0.003823  0.009599  0.006957    NaN  0.008746  0.007101   \n",
       "\n",
       "      D_145  target  \n",
       "0  0.007513       0  \n",
       "1  0.003987       0  \n",
       "2  0.001265       0  \n",
       "3  0.007998       0  \n",
       "4  0.006658       0  \n",
       "\n",
       "[5 rows x 191 columns]"
      ],
      "text/html": [
       "<div>\n",
       "<style scoped>\n",
       "    .dataframe tbody tr th:only-of-type {\n",
       "        vertical-align: middle;\n",
       "    }\n",
       "\n",
       "    .dataframe tbody tr th {\n",
       "        vertical-align: top;\n",
       "    }\n",
       "\n",
       "    .dataframe thead th {\n",
       "        text-align: right;\n",
       "    }\n",
       "</style>\n",
       "<table border=\"1\" class=\"dataframe\">\n",
       "  <thead>\n",
       "    <tr style=\"text-align: right;\">\n",
       "      <th></th>\n",
       "      <th>customer_ID</th>\n",
       "      <th>S_2</th>\n",
       "      <th>P_2</th>\n",
       "      <th>D_39</th>\n",
       "      <th>B_1</th>\n",
       "      <th>B_2</th>\n",
       "      <th>R_1</th>\n",
       "      <th>S_3</th>\n",
       "      <th>D_41</th>\n",
       "      <th>B_3</th>\n",
       "      <th>...</th>\n",
       "      <th>D_137</th>\n",
       "      <th>D_138</th>\n",
       "      <th>D_139</th>\n",
       "      <th>D_140</th>\n",
       "      <th>D_141</th>\n",
       "      <th>D_142</th>\n",
       "      <th>D_143</th>\n",
       "      <th>D_144</th>\n",
       "      <th>D_145</th>\n",
       "      <th>target</th>\n",
       "    </tr>\n",
       "  </thead>\n",
       "  <tbody>\n",
       "    <tr>\n",
       "      <th>0</th>\n",
       "      <td>000098081fde4fd64bc4d503a5d6f86a0aedc425c96f52...</td>\n",
       "      <td>2017-03-11</td>\n",
       "      <td>0.374606</td>\n",
       "      <td>0.033519</td>\n",
       "      <td>0.044293</td>\n",
       "      <td>1.008622</td>\n",
       "      <td>0.001470</td>\n",
       "      <td>0.459235</td>\n",
       "      <td>0.002339</td>\n",
       "      <td>0.006168</td>\n",
       "      <td>...</td>\n",
       "      <td>NaN</td>\n",
       "      <td>NaN</td>\n",
       "      <td>0.008263</td>\n",
       "      <td>0.006609</td>\n",
       "      <td>0.007370</td>\n",
       "      <td>NaN</td>\n",
       "      <td>0.007171</td>\n",
       "      <td>0.005120</td>\n",
       "      <td>0.007513</td>\n",
       "      <td>0</td>\n",
       "    </tr>\n",
       "    <tr>\n",
       "      <th>1</th>\n",
       "      <td>000098081fde4fd64bc4d503a5d6f86a0aedc425c96f52...</td>\n",
       "      <td>2017-04-22</td>\n",
       "      <td>0.414269</td>\n",
       "      <td>0.002516</td>\n",
       "      <td>0.059667</td>\n",
       "      <td>0.123964</td>\n",
       "      <td>0.004374</td>\n",
       "      <td>0.434148</td>\n",
       "      <td>0.001405</td>\n",
       "      <td>0.052130</td>\n",
       "      <td>...</td>\n",
       "      <td>NaN</td>\n",
       "      <td>NaN</td>\n",
       "      <td>0.001986</td>\n",
       "      <td>0.004050</td>\n",
       "      <td>0.000796</td>\n",
       "      <td>NaN</td>\n",
       "      <td>0.001802</td>\n",
       "      <td>0.002364</td>\n",
       "      <td>0.003987</td>\n",
       "      <td>0</td>\n",
       "    </tr>\n",
       "    <tr>\n",
       "      <th>2</th>\n",
       "      <td>000098081fde4fd64bc4d503a5d6f86a0aedc425c96f52...</td>\n",
       "      <td>2017-05-12</td>\n",
       "      <td>0.413310</td>\n",
       "      <td>0.003285</td>\n",
       "      <td>0.053418</td>\n",
       "      <td>0.304955</td>\n",
       "      <td>0.002316</td>\n",
       "      <td>0.415906</td>\n",
       "      <td>0.009388</td>\n",
       "      <td>0.048780</td>\n",
       "      <td>...</td>\n",
       "      <td>NaN</td>\n",
       "      <td>NaN</td>\n",
       "      <td>0.009515</td>\n",
       "      <td>0.008757</td>\n",
       "      <td>0.009219</td>\n",
       "      <td>NaN</td>\n",
       "      <td>0.003134</td>\n",
       "      <td>0.001686</td>\n",
       "      <td>0.001265</td>\n",
       "      <td>0</td>\n",
       "    </tr>\n",
       "    <tr>\n",
       "      <th>3</th>\n",
       "      <td>000098081fde4fd64bc4d503a5d6f86a0aedc425c96f52...</td>\n",
       "      <td>2017-06-10</td>\n",
       "      <td>0.328983</td>\n",
       "      <td>0.038574</td>\n",
       "      <td>0.049463</td>\n",
       "      <td>0.115654</td>\n",
       "      <td>0.004654</td>\n",
       "      <td>0.416112</td>\n",
       "      <td>0.003223</td>\n",
       "      <td>0.081001</td>\n",
       "      <td>...</td>\n",
       "      <td>NaN</td>\n",
       "      <td>NaN</td>\n",
       "      <td>0.002524</td>\n",
       "      <td>0.007841</td>\n",
       "      <td>0.007421</td>\n",
       "      <td>NaN</td>\n",
       "      <td>0.000728</td>\n",
       "      <td>0.003591</td>\n",
       "      <td>0.007998</td>\n",
       "      <td>0</td>\n",
       "    </tr>\n",
       "    <tr>\n",
       "      <th>4</th>\n",
       "      <td>000098081fde4fd64bc4d503a5d6f86a0aedc425c96f52...</td>\n",
       "      <td>2017-07-19</td>\n",
       "      <td>0.496989</td>\n",
       "      <td>0.005552</td>\n",
       "      <td>0.041452</td>\n",
       "      <td>0.133631</td>\n",
       "      <td>0.007363</td>\n",
       "      <td>0.419864</td>\n",
       "      <td>0.003393</td>\n",
       "      <td>0.098308</td>\n",
       "      <td>...</td>\n",
       "      <td>NaN</td>\n",
       "      <td>NaN</td>\n",
       "      <td>0.003823</td>\n",
       "      <td>0.009599</td>\n",
       "      <td>0.006957</td>\n",
       "      <td>NaN</td>\n",
       "      <td>0.008746</td>\n",
       "      <td>0.007101</td>\n",
       "      <td>0.006658</td>\n",
       "      <td>0</td>\n",
       "    </tr>\n",
       "  </tbody>\n",
       "</table>\n",
       "<p>5 rows × 191 columns</p>\n",
       "</div>"
      ]
     },
     "execution_count": 13,
     "metadata": {},
     "output_type": "execute_result"
    }
   ],
   "execution_count": 13
  },
  {
   "metadata": {
    "ExecuteTime": {
     "end_time": "2024-09-27T00:55:02.153395Z",
     "start_time": "2024-09-27T00:54:32.732911Z"
    }
   },
   "cell_type": "code",
   "source": [
    "# Step 5: One-hot encoding for categorical variables\n",
    "# List of known categorical columns\n",
    "# List of categorical columns\n",
    "categorical_columns = ['B_30', 'B_38', 'D_114', 'D_116', 'D_117', 'D_120', 'D_126', 'D_63', 'D_64', 'D_66', 'D_68']\n",
    "\n",
    "# Function to read and process data in chunks\n",
    "def process_chunks(file_path, chunk_size=100000):\n",
    "    encoded_chunks = []\n",
    "    \n",
    "    for chunk in pd.read_csv(file_path, chunksize=chunk_size):\n",
    "        # Convert all specified columns to strings\n",
    "        for col in categorical_columns:\n",
    "            chunk[col] = chunk[col].astype(str)\n",
    "        \n",
    "        # Perform one-hot encoding\n",
    "        encoded_chunk = pd.get_dummies(chunk, columns=categorical_columns)\n",
    "        \n",
    "        # Ensure the encoded columns are of type int (0 or 1)\n",
    "        for col in encoded_chunk.columns:\n",
    "            if col.startswith(tuple(categorical_columns)):\n",
    "                encoded_chunk[col] = encoded_chunk[col].astype(int)\n",
    "        \n",
    "        encoded_chunks.append(encoded_chunk)\n",
    "        \n",
    "        print(f\"Processed chunk of size {len(chunk)}\")\n",
    "    \n",
    "    return pd.concat(encoded_chunks, ignore_index=True)\n",
    "\n",
    "# Process the file\n",
    "df_encoded = process_chunks('data/development_sample.csv')\n",
    "\n",
    "print(\"One-hot encoding completed.\")\n",
    "print(f\"Shape of encoded DataFrame: {df_encoded.shape}\")\n",
    "\n",
    "# Display the first few rows of the encoded DataFrame\n",
    "print(df_encoded.head())\n",
    "\n",
    "# Check the data types of the encoded columns\n",
    "print(df_encoded.dtypes)"
   ],
   "id": "a756f487fcb57c0f",
   "outputs": [
    {
     "name": "stdout",
     "output_type": "stream",
     "text": [
      "Processed chunk of size 100000\n",
      "Processed chunk of size 100000\n",
      "Processed chunk of size 100000\n",
      "Processed chunk of size 100000\n",
      "Processed chunk of size 100000\n",
      "Processed chunk of size 100000\n",
      "Processed chunk of size 100000\n",
      "Processed chunk of size 100000\n",
      "Processed chunk of size 100000\n",
      "Processed chunk of size 100000\n",
      "Processed chunk of size 100000\n",
      "Processed chunk of size 7082\n",
      "One-hot encoding completed.\n",
      "Shape of encoded DataFrame: (1107082, 235)\n",
      "                                         customer_ID         S_2       P_2  \\\n",
      "0  000098081fde4fd64bc4d503a5d6f86a0aedc425c96f52...  2017-03-11  0.374606   \n",
      "1  000098081fde4fd64bc4d503a5d6f86a0aedc425c96f52...  2017-04-22  0.414269   \n",
      "2  000098081fde4fd64bc4d503a5d6f86a0aedc425c96f52...  2017-05-12  0.413310   \n",
      "3  000098081fde4fd64bc4d503a5d6f86a0aedc425c96f52...  2017-06-10  0.328983   \n",
      "4  000098081fde4fd64bc4d503a5d6f86a0aedc425c96f52...  2017-07-19  0.496989   \n",
      "\n",
      "       D_39       B_1       B_2       R_1       S_3      D_41       B_3  ...  \\\n",
      "0  0.033519  0.044293  1.008622  0.001470  0.459235  0.002339  0.006168  ...   \n",
      "1  0.002516  0.059667  0.123964  0.004374  0.434148  0.001405  0.052130  ...   \n",
      "2  0.003285  0.053418  0.304955  0.002316  0.415906  0.009388  0.048780  ...   \n",
      "3  0.038574  0.049463  0.115654  0.004654  0.416112  0.003223  0.081001  ...   \n",
      "4  0.005552  0.041452  0.133631  0.007363  0.419864  0.003393  0.098308  ...   \n",
      "\n",
      "   D_66_1.0  D_66_nan  D_68_0.0  D_68_1.0  D_68_2.0  D_68_3.0  D_68_4.0  \\\n",
      "0         0         1         0         0         0         0         0   \n",
      "1         0         1         0         0         0         0         0   \n",
      "2         0         1         0         0         1         0         0   \n",
      "3         0         1         0         0         1         0         0   \n",
      "4         0         1         0         0         1         0         0   \n",
      "\n",
      "   D_68_5.0  D_68_6.0  D_68_nan  \n",
      "0         0         0         1  \n",
      "1         0         0         1  \n",
      "2         0         0         0  \n",
      "3         0         0         0  \n",
      "4         0         0         0  \n",
      "\n",
      "[5 rows x 235 columns]\n",
      "customer_ID     object\n",
      "S_2             object\n",
      "P_2            float64\n",
      "D_39           float64\n",
      "B_1            float64\n",
      "                ...   \n",
      "D_68_3.0         int64\n",
      "D_68_4.0         int64\n",
      "D_68_5.0         int64\n",
      "D_68_6.0         int64\n",
      "D_68_nan         int64\n",
      "Length: 235, dtype: object\n"
     ]
    }
   ],
   "execution_count": 26
  },
  {
   "metadata": {
    "ExecuteTime": {
     "end_time": "2024-09-27T01:06:12.001677Z",
     "start_time": "2024-09-27T00:55:43.570546Z"
    }
   },
   "cell_type": "code",
   "source": "df_encoded.to_csv('data/train_encoded_data.csv', index=False)",
   "id": "469a5414f95c282d",
   "outputs": [],
   "execution_count": 27
  },
  {
   "metadata": {},
   "cell_type": "markdown",
   "source": "***USE THE BELOW CODE FOR QUESTION 6~***",
   "id": "2932d32f61abc07a"
  },
  {
   "metadata": {
    "ExecuteTime": {
     "end_time": "2024-10-07T23:39:54.890726Z",
     "start_time": "2024-10-07T23:39:28.545549Z"
    }
   },
   "cell_type": "code",
   "source": [
    "# Step 6: EDA\n",
    "df = pd.read_csv('data/train_encoded_data.csv')\n"
   ],
   "id": "5f44bf4fb5408634",
   "outputs": [],
   "execution_count": 2
  },
  {
   "metadata": {
    "ExecuteTime": {
     "end_time": "2024-10-07T23:40:04.917993Z",
     "start_time": "2024-10-07T23:40:04.804499Z"
    }
   },
   "cell_type": "code",
   "source": "df['S_2'] = pd.to_datetime(df['S_2'])",
   "id": "7e2ad17f4f50b6e0",
   "outputs": [],
   "execution_count": 3
  },
  {
   "metadata": {
    "ExecuteTime": {
     "end_time": "2024-09-27T02:20:24.568056Z",
     "start_time": "2024-09-27T02:20:24.544524Z"
    }
   },
   "cell_type": "code",
   "source": "df.head()",
   "id": "edde8cc79fbbd8b7",
   "outputs": [
    {
     "data": {
      "text/plain": [
       "                                         customer_ID        S_2       P_2  \\\n",
       "0  000098081fde4fd64bc4d503a5d6f86a0aedc425c96f52... 2017-03-11  0.374606   \n",
       "1  000098081fde4fd64bc4d503a5d6f86a0aedc425c96f52... 2017-04-22  0.414269   \n",
       "2  000098081fde4fd64bc4d503a5d6f86a0aedc425c96f52... 2017-05-12  0.413310   \n",
       "3  000098081fde4fd64bc4d503a5d6f86a0aedc425c96f52... 2017-06-10  0.328983   \n",
       "4  000098081fde4fd64bc4d503a5d6f86a0aedc425c96f52... 2017-07-19  0.496989   \n",
       "\n",
       "       D_39       B_1       B_2       R_1       S_3      D_41       B_3  ...  \\\n",
       "0  0.033519  0.044293  1.008622  0.001470  0.459235  0.002339  0.006168  ...   \n",
       "1  0.002516  0.059667  0.123964  0.004374  0.434148  0.001405  0.052130  ...   \n",
       "2  0.003285  0.053418  0.304955  0.002316  0.415906  0.009388  0.048780  ...   \n",
       "3  0.038574  0.049463  0.115654  0.004654  0.416112  0.003223  0.081001  ...   \n",
       "4  0.005552  0.041452  0.133631  0.007363  0.419864  0.003393  0.098308  ...   \n",
       "\n",
       "   D_66_1.0  D_66_nan  D_68_0.0  D_68_1.0  D_68_2.0  D_68_3.0  D_68_4.0  \\\n",
       "0         0         1         0         0         0         0         0   \n",
       "1         0         1         0         0         0         0         0   \n",
       "2         0         1         0         0         1         0         0   \n",
       "3         0         1         0         0         1         0         0   \n",
       "4         0         1         0         0         1         0         0   \n",
       "\n",
       "   D_68_5.0  D_68_6.0  D_68_nan  \n",
       "0         0         0         1  \n",
       "1         0         0         1  \n",
       "2         0         0         0  \n",
       "3         0         0         0  \n",
       "4         0         0         0  \n",
       "\n",
       "[5 rows x 235 columns]"
      ],
      "text/html": [
       "<div>\n",
       "<style scoped>\n",
       "    .dataframe tbody tr th:only-of-type {\n",
       "        vertical-align: middle;\n",
       "    }\n",
       "\n",
       "    .dataframe tbody tr th {\n",
       "        vertical-align: top;\n",
       "    }\n",
       "\n",
       "    .dataframe thead th {\n",
       "        text-align: right;\n",
       "    }\n",
       "</style>\n",
       "<table border=\"1\" class=\"dataframe\">\n",
       "  <thead>\n",
       "    <tr style=\"text-align: right;\">\n",
       "      <th></th>\n",
       "      <th>customer_ID</th>\n",
       "      <th>S_2</th>\n",
       "      <th>P_2</th>\n",
       "      <th>D_39</th>\n",
       "      <th>B_1</th>\n",
       "      <th>B_2</th>\n",
       "      <th>R_1</th>\n",
       "      <th>S_3</th>\n",
       "      <th>D_41</th>\n",
       "      <th>B_3</th>\n",
       "      <th>...</th>\n",
       "      <th>D_66_1.0</th>\n",
       "      <th>D_66_nan</th>\n",
       "      <th>D_68_0.0</th>\n",
       "      <th>D_68_1.0</th>\n",
       "      <th>D_68_2.0</th>\n",
       "      <th>D_68_3.0</th>\n",
       "      <th>D_68_4.0</th>\n",
       "      <th>D_68_5.0</th>\n",
       "      <th>D_68_6.0</th>\n",
       "      <th>D_68_nan</th>\n",
       "    </tr>\n",
       "  </thead>\n",
       "  <tbody>\n",
       "    <tr>\n",
       "      <th>0</th>\n",
       "      <td>000098081fde4fd64bc4d503a5d6f86a0aedc425c96f52...</td>\n",
       "      <td>2017-03-11</td>\n",
       "      <td>0.374606</td>\n",
       "      <td>0.033519</td>\n",
       "      <td>0.044293</td>\n",
       "      <td>1.008622</td>\n",
       "      <td>0.001470</td>\n",
       "      <td>0.459235</td>\n",
       "      <td>0.002339</td>\n",
       "      <td>0.006168</td>\n",
       "      <td>...</td>\n",
       "      <td>0</td>\n",
       "      <td>1</td>\n",
       "      <td>0</td>\n",
       "      <td>0</td>\n",
       "      <td>0</td>\n",
       "      <td>0</td>\n",
       "      <td>0</td>\n",
       "      <td>0</td>\n",
       "      <td>0</td>\n",
       "      <td>1</td>\n",
       "    </tr>\n",
       "    <tr>\n",
       "      <th>1</th>\n",
       "      <td>000098081fde4fd64bc4d503a5d6f86a0aedc425c96f52...</td>\n",
       "      <td>2017-04-22</td>\n",
       "      <td>0.414269</td>\n",
       "      <td>0.002516</td>\n",
       "      <td>0.059667</td>\n",
       "      <td>0.123964</td>\n",
       "      <td>0.004374</td>\n",
       "      <td>0.434148</td>\n",
       "      <td>0.001405</td>\n",
       "      <td>0.052130</td>\n",
       "      <td>...</td>\n",
       "      <td>0</td>\n",
       "      <td>1</td>\n",
       "      <td>0</td>\n",
       "      <td>0</td>\n",
       "      <td>0</td>\n",
       "      <td>0</td>\n",
       "      <td>0</td>\n",
       "      <td>0</td>\n",
       "      <td>0</td>\n",
       "      <td>1</td>\n",
       "    </tr>\n",
       "    <tr>\n",
       "      <th>2</th>\n",
       "      <td>000098081fde4fd64bc4d503a5d6f86a0aedc425c96f52...</td>\n",
       "      <td>2017-05-12</td>\n",
       "      <td>0.413310</td>\n",
       "      <td>0.003285</td>\n",
       "      <td>0.053418</td>\n",
       "      <td>0.304955</td>\n",
       "      <td>0.002316</td>\n",
       "      <td>0.415906</td>\n",
       "      <td>0.009388</td>\n",
       "      <td>0.048780</td>\n",
       "      <td>...</td>\n",
       "      <td>0</td>\n",
       "      <td>1</td>\n",
       "      <td>0</td>\n",
       "      <td>0</td>\n",
       "      <td>1</td>\n",
       "      <td>0</td>\n",
       "      <td>0</td>\n",
       "      <td>0</td>\n",
       "      <td>0</td>\n",
       "      <td>0</td>\n",
       "    </tr>\n",
       "    <tr>\n",
       "      <th>3</th>\n",
       "      <td>000098081fde4fd64bc4d503a5d6f86a0aedc425c96f52...</td>\n",
       "      <td>2017-06-10</td>\n",
       "      <td>0.328983</td>\n",
       "      <td>0.038574</td>\n",
       "      <td>0.049463</td>\n",
       "      <td>0.115654</td>\n",
       "      <td>0.004654</td>\n",
       "      <td>0.416112</td>\n",
       "      <td>0.003223</td>\n",
       "      <td>0.081001</td>\n",
       "      <td>...</td>\n",
       "      <td>0</td>\n",
       "      <td>1</td>\n",
       "      <td>0</td>\n",
       "      <td>0</td>\n",
       "      <td>1</td>\n",
       "      <td>0</td>\n",
       "      <td>0</td>\n",
       "      <td>0</td>\n",
       "      <td>0</td>\n",
       "      <td>0</td>\n",
       "    </tr>\n",
       "    <tr>\n",
       "      <th>4</th>\n",
       "      <td>000098081fde4fd64bc4d503a5d6f86a0aedc425c96f52...</td>\n",
       "      <td>2017-07-19</td>\n",
       "      <td>0.496989</td>\n",
       "      <td>0.005552</td>\n",
       "      <td>0.041452</td>\n",
       "      <td>0.133631</td>\n",
       "      <td>0.007363</td>\n",
       "      <td>0.419864</td>\n",
       "      <td>0.003393</td>\n",
       "      <td>0.098308</td>\n",
       "      <td>...</td>\n",
       "      <td>0</td>\n",
       "      <td>1</td>\n",
       "      <td>0</td>\n",
       "      <td>0</td>\n",
       "      <td>1</td>\n",
       "      <td>0</td>\n",
       "      <td>0</td>\n",
       "      <td>0</td>\n",
       "      <td>0</td>\n",
       "      <td>0</td>\n",
       "    </tr>\n",
       "  </tbody>\n",
       "</table>\n",
       "<p>5 rows × 235 columns</p>\n",
       "</div>"
      ]
     },
     "execution_count": 36,
     "metadata": {},
     "output_type": "execute_result"
    }
   ],
   "execution_count": 36
  },
  {
   "metadata": {
    "ExecuteTime": {
     "end_time": "2024-10-07T23:49:56.838560Z",
     "start_time": "2024-10-07T23:49:56.813444Z"
    }
   },
   "cell_type": "code",
   "source": [
    "# calculate last 6 months average value for numerical columns\n",
    "def calculate_average_last_6_months(df):\n",
    "    end_date = df['S_2'].max()\n",
    "    start_date = end_date - pd.DateOffset(months=6)\n",
    "    \n",
    "    # Filter data for the last 6 months\n",
    "    last_6_months_data = df[(df['S_2'] >= start_date) & (df['S_2'] <= end_date)]\n",
    "    \n",
    "    # Calculate the average for each numerical column\n",
    "    averages = last_6_months_data.mean(numeric_only=True)\n",
    "    return averages\n",
    "\n",
    "# calculate last 12 months average value for numerical columns\n",
    "def calculate_average_last_12_months(df):\n",
    "    end_date = df['S_2'].max()\n",
    "    start_date = end_date - pd.DateOffset(months=12)\n",
    "    last_12_months_data = df[df['S_2'] >= start_date]\n",
    "    averages = last_12_months_data.mean(numeric_only=True)\n",
    "    return averages\n",
    "\n",
    "# calculate last 6 months minimum value for numerical columns\n",
    "def calculate_min_last_6_months(df):\n",
    "    end_date = df['S_2'].max()\n",
    "    start_date = end_date - pd.DateOffset(months=6)\n",
    "    last_6_months_data = df[(df['S_2'] >= start_date) & (df['S_2'] <= end_date)]\n",
    "    minimums = last_6_months_data.min(numeric_only=True)\n",
    "    return minimums\n",
    "\n",
    "# calculate last 9 months maximum value for numerical columns\n",
    "def calculate_max_last_9_months(df):\n",
    "    end_date = df['S_2'].max()\n",
    "    start_date = end_date - pd.DateOffset(months=9)\n",
    "    last_9_months_data = df[(df['S_2'] >= start_date) & (df['S_2'] <= end_date)]\n",
    "    maximums = last_9_months_data.max(numeric_only=True)\n",
    "    return maximums\n",
    "\n",
    "# calculate last 3 months total value for numerical columns\n",
    "def calculate_sum_of_3_months(df):\n",
    "    end_date = df['S_2'].max()\n",
    "    start_date = end_date - pd.DateOffset(months=3)\n",
    "    last_3_months_data = df[(df['S_2'] >= start_date) & (df['S_2'] <= end_date)]\n",
    "    sums = last_3_months_data.sum(numeric_only=True)\n",
    "    return sums"
   ],
   "id": "cd5165ccd9c4a6b5",
   "outputs": [],
   "execution_count": 9
  },
  {
   "metadata": {
    "ExecuteTime": {
     "end_time": "2024-10-07T23:40:15.604084Z",
     "start_time": "2024-10-07T23:40:13.742029Z"
    }
   },
   "cell_type": "code",
   "source": "eda_df = df.copy()",
   "id": "e0daef8b550b1786",
   "outputs": [],
   "execution_count": 5
  },
  {
   "metadata": {
    "ExecuteTime": {
     "end_time": "2024-10-07T23:40:34.250670Z",
     "start_time": "2024-10-07T23:40:31.409096Z"
    }
   },
   "cell_type": "code",
   "source": [
    "# Remove one-hot encoding variables\n",
    "drop_prefixes = ['B_30', 'B_38', 'D_114', 'D_116', 'D_117', 'D_120', 'D_126', 'D_63', 'D_64', 'D_66', 'D_68']\n",
    "\n",
    "regex_pattern = '^(' + '|'.join(drop_prefixes) + ')'\n",
    "\n",
    "eda_df = eda_df.drop(columns=eda_df.filter(regex=regex_pattern).columns)"
   ],
   "id": "539b6e96f5df1421",
   "outputs": [],
   "execution_count": 6
  },
  {
   "metadata": {
    "ExecuteTime": {
     "end_time": "2024-10-07T23:51:14.957115Z",
     "start_time": "2024-10-07T23:51:08.522281Z"
    }
   },
   "cell_type": "code",
   "source": [
    "# Average of last 6 months\n",
    "average_6_values = calculate_average_last_6_months(eda_df)\n",
    "\n",
    "new_column_names = {col: f\"{col}_Ave_6\" for col in average_6_values.index if col!= 'customer_ID'}\n",
    "\n",
    "average_6_values = average_6_values.rename(index=new_column_names)\n",
    "\n",
    "average_6_values"
   ],
   "id": "9c745f813326df69",
   "outputs": [
    {
     "data": {
      "text/plain": [
       "P_2_Ave_6       0.645674\n",
       "D_39_Ave_6      0.167517\n",
       "B_1_Ave_6       0.132256\n",
       "B_2_Ave_6       0.604573\n",
       "R_1_Ave_6       0.093123\n",
       "                  ...   \n",
       "D_142_Ave_6     0.391815\n",
       "D_143_Ave_6     0.179578\n",
       "D_144_Ave_6     0.051805\n",
       "D_145_Ave_6     0.063218\n",
       "target_Ave_6    0.253945\n",
       "Length: 178, dtype: float64"
      ]
     },
     "execution_count": 10,
     "metadata": {},
     "output_type": "execute_result"
    }
   ],
   "execution_count": 10
  },
  {
   "metadata": {
    "ExecuteTime": {
     "end_time": "2024-10-07T23:51:55.618697Z",
     "start_time": "2024-10-07T23:51:50.848919Z"
    }
   },
   "cell_type": "code",
   "source": [
    "# Average of last 12 months\n",
    "average_12_values = calculate_average_last_12_months(eda_df)\n",
    "\n",
    "new_column_names = {col: f\"{col}_Ave_12\" for col in average_12_values.index if col!= 'customer_ID'}\n",
    "\n",
    "average_12_values = average_12_values.rename(index=new_column_names)\n",
    "\n",
    "average_12_values"
   ],
   "id": "5371bef5f38fa9d3",
   "outputs": [
    {
     "data": {
      "text/plain": [
       "P_2_Ave_12       0.655332\n",
       "D_39_Ave_12      0.154940\n",
       "B_1_Ave_12       0.124777\n",
       "B_2_Ave_12       0.620399\n",
       "R_1_Ave_12       0.080536\n",
       "                   ...   \n",
       "D_142_Ave_12     0.390749\n",
       "D_143_Ave_12     0.178400\n",
       "D_144_Ave_12     0.052090\n",
       "D_145_Ave_12     0.062331\n",
       "target_Ave_12    0.247798\n",
       "Length: 178, dtype: float64"
      ]
     },
     "execution_count": 11,
     "metadata": {},
     "output_type": "execute_result"
    }
   ],
   "execution_count": 11
  },
  {
   "metadata": {
    "ExecuteTime": {
     "end_time": "2024-10-07T23:53:06.584353Z",
     "start_time": "2024-10-07T23:53:05.053838Z"
    }
   },
   "cell_type": "code",
   "source": [
    "# Calculate minimum value\n",
    "min_6_values = calculate_min_last_6_months(eda_df)\n",
    "\n",
    "new_column_names = {col: f\"{col}_min_6\" for col in min_6_values.index if col!= 'customer_ID'}\n",
    "\n",
    "min_6_values = min_6_values.rename(index=new_column_names)\n",
    "\n",
    "min_6_values\n"
   ],
   "id": "e06a1eaf0561fcdf",
   "outputs": [
    {
     "data": {
      "text/plain": [
       "P_2_min_6      -4.205811e-01\n",
       "D_39_min_6      9.052854e-09\n",
       "B_1_min_6      -8.993963e-01\n",
       "B_2_min_6       5.485064e-08\n",
       "R_1_min_6       1.065542e-08\n",
       "                    ...     \n",
       "D_142_min_6    -1.422761e-02\n",
       "D_143_min_6     2.565179e-08\n",
       "D_144_min_6     4.701217e-09\n",
       "D_145_min_6     2.811854e-09\n",
       "target_min_6    0.000000e+00\n",
       "Length: 178, dtype: float64"
      ]
     },
     "execution_count": 12,
     "metadata": {},
     "output_type": "execute_result"
    }
   ],
   "execution_count": 12
  },
  {
   "metadata": {
    "ExecuteTime": {
     "end_time": "2024-10-07T23:54:50.590540Z",
     "start_time": "2024-10-07T23:54:48.487551Z"
    }
   },
   "cell_type": "code",
   "source": [
    "# Calculate maximum value\n",
    "max_9_values = calculate_max_last_9_months(eda_df)\n",
    "\n",
    "new_column_names = {col: f\"{col}_max_9\" for col in max_9_values.index if col!= 'customer_ID'}\n",
    "\n",
    "max_9_values = max_9_values.rename(index=new_column_names)\n",
    "\n",
    "max_9_values"
   ],
   "id": "e71854bbedf1275e",
   "outputs": [
    {
     "data": {
      "text/plain": [
       "P_2_max_9       1.010000\n",
       "D_39_max_9      5.268649\n",
       "B_1_max_9       1.324059\n",
       "B_2_max_9       1.010000\n",
       "R_1_max_9       3.006102\n",
       "                  ...   \n",
       "D_142_max_9     2.091407\n",
       "D_143_max_9     1.010000\n",
       "D_144_max_9     1.343331\n",
       "D_145_max_9     4.827630\n",
       "target_max_9    1.000000\n",
       "Length: 178, dtype: float64"
      ]
     },
     "execution_count": 14,
     "metadata": {},
     "output_type": "execute_result"
    }
   ],
   "execution_count": 14
  },
  {
   "metadata": {
    "ExecuteTime": {
     "end_time": "2024-10-07T23:56:57.500646Z",
     "start_time": "2024-10-07T23:56:55.890052Z"
    }
   },
   "cell_type": "code",
   "source": [
    "# Calculate total value\n",
    "sum_3_values = calculate_sum_of_3_months(eda_df)\n",
    "\n",
    "new_column_names = {col: f\"{col}_sum_3\" for col in sum_3_values.index if col!= 'customer_ID'}\n",
    "\n",
    "sum_3_values = sum_3_values.rename(index=new_column_names)\n",
    "\n",
    "sum_3_values"
   ],
   "id": "7325a510100debbd",
   "outputs": [
    {
     "data": {
      "text/plain": [
       "P_2_sum_3       173460.410369\n",
       "D_39_sum_3       50358.957004\n",
       "B_1_sum_3        37254.089682\n",
       "B_2_sum_3       163096.167642\n",
       "R_1_sum_3        27327.040214\n",
       "                    ...      \n",
       "D_142_sum_3      18441.322821\n",
       "D_143_sum_3      48197.847675\n",
       "D_144_sum_3      14054.392180\n",
       "D_145_sum_3      17013.017700\n",
       "target_sum_3     69922.000000\n",
       "Length: 178, dtype: float64"
      ]
     },
     "execution_count": 15,
     "metadata": {},
     "output_type": "execute_result"
    }
   ],
   "execution_count": 15
  },
  {
   "metadata": {
    "ExecuteTime": {
     "end_time": "2024-10-08T00:04:23.652325Z",
     "start_time": "2024-10-08T00:04:23.568597Z"
    }
   },
   "cell_type": "code",
   "source": [
    "# Check April 2018 data\n",
    "april_2018_data = eda_df[(eda_df['S_2'].dt.year == 2018) & (eda_df['S_2'].dt.month == 4)]\n",
    "april_2018_data.head()"
   ],
   "id": "4f195a7799f41e95",
   "outputs": [
    {
     "data": {
      "text/plain": [
       "Empty DataFrame\n",
       "Columns: [customer_ID, S_2, P_2, D_39, B_1, B_2, R_1, S_3, D_41, B_3, D_42, D_43, D_44, B_4, D_45, B_5, R_2, D_46, D_47, D_48, D_49, B_6, B_7, B_8, D_50, D_51, B_9, R_3, D_52, P_3, B_10, D_53, S_5, B_11, S_6, D_54, R_4, S_7, B_12, S_8, D_55, D_56, B_13, R_5, D_58, S_9, B_14, D_59, D_60, D_61, B_15, S_11, D_62, D_65, B_16, B_17, B_18, B_19, B_20, S_12, R_6, S_13, B_21, D_69, B_22, D_70, D_71, D_72, S_15, B_23, D_73, P_4, D_74, D_75, D_76, B_24, R_7, D_77, B_25, B_26, D_78, D_79, R_8, R_9, S_16, D_80, R_10, R_11, B_27, D_81, D_82, S_17, R_12, B_28, R_13, D_83, R_14, R_15, D_84, R_16, ...]\n",
       "Index: []\n",
       "\n",
       "[0 rows x 180 columns]"
      ],
      "text/html": [
       "<div>\n",
       "<style scoped>\n",
       "    .dataframe tbody tr th:only-of-type {\n",
       "        vertical-align: middle;\n",
       "    }\n",
       "\n",
       "    .dataframe tbody tr th {\n",
       "        vertical-align: top;\n",
       "    }\n",
       "\n",
       "    .dataframe thead th {\n",
       "        text-align: right;\n",
       "    }\n",
       "</style>\n",
       "<table border=\"1\" class=\"dataframe\">\n",
       "  <thead>\n",
       "    <tr style=\"text-align: right;\">\n",
       "      <th></th>\n",
       "      <th>customer_ID</th>\n",
       "      <th>S_2</th>\n",
       "      <th>P_2</th>\n",
       "      <th>D_39</th>\n",
       "      <th>B_1</th>\n",
       "      <th>B_2</th>\n",
       "      <th>R_1</th>\n",
       "      <th>S_3</th>\n",
       "      <th>D_41</th>\n",
       "      <th>B_3</th>\n",
       "      <th>...</th>\n",
       "      <th>D_137</th>\n",
       "      <th>D_138</th>\n",
       "      <th>D_139</th>\n",
       "      <th>D_140</th>\n",
       "      <th>D_141</th>\n",
       "      <th>D_142</th>\n",
       "      <th>D_143</th>\n",
       "      <th>D_144</th>\n",
       "      <th>D_145</th>\n",
       "      <th>target</th>\n",
       "    </tr>\n",
       "  </thead>\n",
       "  <tbody>\n",
       "  </tbody>\n",
       "</table>\n",
       "<p>0 rows × 180 columns</p>\n",
       "</div>"
      ]
     },
     "execution_count": 23,
     "metadata": {},
     "output_type": "execute_result"
    }
   ],
   "execution_count": 23
  },
  {
   "metadata": {
    "ExecuteTime": {
     "end_time": "2024-10-08T00:10:53.704261Z",
     "start_time": "2024-10-08T00:10:53.445796Z"
    }
   },
   "cell_type": "code",
   "source": "",
   "id": "8fd6d2f86e5d73a9",
   "outputs": [
    {
     "data": {
      "text/plain": [
       "                                                          min        max  \\\n",
       "customer_ID                                                                \n",
       "000098081fde4fd64bc4d503a5d6f86a0aedc425c96f523... 2017-03-11 2018-03-12   \n",
       "000445609ff2a39d2dd02484899affa5696210a95f6869f... 2017-03-10 2018-03-17   \n",
       "0004837f0c785928a29a6f83f70f4a1c54caec483a773ff... 2017-03-01 2018-03-02   \n",
       "0004ec03ca1ab2adb9aa260c61ba5dce8185e19d3ab7040... 2017-03-09 2018-03-08   \n",
       "00050d84c6d26e26cd2b18c3eed83d3130c270e2361470f... 2017-03-14 2018-03-22   \n",
       "...                                                       ...        ...   \n",
       "fffe2bc02423407e33a607660caeed076d713d8a5ad3232... 2017-08-30 2018-03-17   \n",
       "ffff518bb2075e4816ee3fe9f3b152c57fc0e6f01bf7fdd... 2017-03-22 2018-03-22   \n",
       "ffff9984b999fccb2b6127635ed0736dda94e544e67e026... 2017-03-16 2018-03-07   \n",
       "ffffa5c46bc8de74f5a4554e74e239c8dee6b9baf388145... 2017-03-25 2018-03-23   \n",
       "fffff1d38b785cef84adeace64f8f83db3a0c31e8d92eab... 2017-03-20 2018-03-14   \n",
       "\n",
       "                                                      range  \n",
       "customer_ID                                                  \n",
       "000098081fde4fd64bc4d503a5d6f86a0aedc425c96f523... 366 days  \n",
       "000445609ff2a39d2dd02484899affa5696210a95f6869f... 372 days  \n",
       "0004837f0c785928a29a6f83f70f4a1c54caec483a773ff... 366 days  \n",
       "0004ec03ca1ab2adb9aa260c61ba5dce8185e19d3ab7040... 364 days  \n",
       "00050d84c6d26e26cd2b18c3eed83d3130c270e2361470f... 373 days  \n",
       "...                                                     ...  \n",
       "fffe2bc02423407e33a607660caeed076d713d8a5ad3232... 199 days  \n",
       "ffff518bb2075e4816ee3fe9f3b152c57fc0e6f01bf7fdd... 365 days  \n",
       "ffff9984b999fccb2b6127635ed0736dda94e544e67e026... 356 days  \n",
       "ffffa5c46bc8de74f5a4554e74e239c8dee6b9baf388145... 363 days  \n",
       "fffff1d38b785cef84adeace64f8f83db3a0c31e8d92eab... 359 days  \n",
       "\n",
       "[91783 rows x 3 columns]"
      ],
      "text/html": [
       "<div>\n",
       "<style scoped>\n",
       "    .dataframe tbody tr th:only-of-type {\n",
       "        vertical-align: middle;\n",
       "    }\n",
       "\n",
       "    .dataframe tbody tr th {\n",
       "        vertical-align: top;\n",
       "    }\n",
       "\n",
       "    .dataframe thead th {\n",
       "        text-align: right;\n",
       "    }\n",
       "</style>\n",
       "<table border=\"1\" class=\"dataframe\">\n",
       "  <thead>\n",
       "    <tr style=\"text-align: right;\">\n",
       "      <th></th>\n",
       "      <th>min</th>\n",
       "      <th>max</th>\n",
       "      <th>range</th>\n",
       "    </tr>\n",
       "    <tr>\n",
       "      <th>customer_ID</th>\n",
       "      <th></th>\n",
       "      <th></th>\n",
       "      <th></th>\n",
       "    </tr>\n",
       "  </thead>\n",
       "  <tbody>\n",
       "    <tr>\n",
       "      <th>000098081fde4fd64bc4d503a5d6f86a0aedc425c96f5235f98b0f47c9d7d8d4</th>\n",
       "      <td>2017-03-11</td>\n",
       "      <td>2018-03-12</td>\n",
       "      <td>366 days</td>\n",
       "    </tr>\n",
       "    <tr>\n",
       "      <th>000445609ff2a39d2dd02484899affa5696210a95f6869f26390bd26eeb3b651</th>\n",
       "      <td>2017-03-10</td>\n",
       "      <td>2018-03-17</td>\n",
       "      <td>372 days</td>\n",
       "    </tr>\n",
       "    <tr>\n",
       "      <th>0004837f0c785928a29a6f83f70f4a1c54caec483a773ff4b5b317ac251abda0</th>\n",
       "      <td>2017-03-01</td>\n",
       "      <td>2018-03-02</td>\n",
       "      <td>366 days</td>\n",
       "    </tr>\n",
       "    <tr>\n",
       "      <th>0004ec03ca1ab2adb9aa260c61ba5dce8185e19d3ab704029f989240c733b6d0</th>\n",
       "      <td>2017-03-09</td>\n",
       "      <td>2018-03-08</td>\n",
       "      <td>364 days</td>\n",
       "    </tr>\n",
       "    <tr>\n",
       "      <th>00050d84c6d26e26cd2b18c3eed83d3130c270e2361470ff272f9409103d067f</th>\n",
       "      <td>2017-03-14</td>\n",
       "      <td>2018-03-22</td>\n",
       "      <td>373 days</td>\n",
       "    </tr>\n",
       "    <tr>\n",
       "      <th>...</th>\n",
       "      <td>...</td>\n",
       "      <td>...</td>\n",
       "      <td>...</td>\n",
       "    </tr>\n",
       "    <tr>\n",
       "      <th>fffe2bc02423407e33a607660caeed076d713d8a5ad32321530e92704835da88</th>\n",
       "      <td>2017-08-30</td>\n",
       "      <td>2018-03-17</td>\n",
       "      <td>199 days</td>\n",
       "    </tr>\n",
       "    <tr>\n",
       "      <th>ffff518bb2075e4816ee3fe9f3b152c57fc0e6f01bf7fdd3e5b57cfcbee30286</th>\n",
       "      <td>2017-03-22</td>\n",
       "      <td>2018-03-22</td>\n",
       "      <td>365 days</td>\n",
       "    </tr>\n",
       "    <tr>\n",
       "      <th>ffff9984b999fccb2b6127635ed0736dda94e544e67e026eee4d20f680639ff6</th>\n",
       "      <td>2017-03-16</td>\n",
       "      <td>2018-03-07</td>\n",
       "      <td>356 days</td>\n",
       "    </tr>\n",
       "    <tr>\n",
       "      <th>ffffa5c46bc8de74f5a4554e74e239c8dee6b9baf388145b2c3d01967fcce461</th>\n",
       "      <td>2017-03-25</td>\n",
       "      <td>2018-03-23</td>\n",
       "      <td>363 days</td>\n",
       "    </tr>\n",
       "    <tr>\n",
       "      <th>fffff1d38b785cef84adeace64f8f83db3a0c31e8d92eaba8b115f71cab04681</th>\n",
       "      <td>2017-03-20</td>\n",
       "      <td>2018-03-14</td>\n",
       "      <td>359 days</td>\n",
       "    </tr>\n",
       "  </tbody>\n",
       "</table>\n",
       "<p>91783 rows × 3 columns</p>\n",
       "</div>"
      ]
     },
     "execution_count": 28,
     "metadata": {},
     "output_type": "execute_result"
    }
   ],
   "execution_count": 28
  },
  {
   "metadata": {
    "ExecuteTime": {
     "end_time": "2024-10-08T00:16:16.088918Z",
     "start_time": "2024-10-08T00:16:16.005021Z"
    }
   },
   "cell_type": "code",
   "source": "",
   "id": "a5d49d18985dbe1a",
   "outputs": [
    {
     "data": {
      "text/plain": [
       "P_2         0.371958\n",
       "D_39        0.004968\n",
       "B_1         0.002395\n",
       "B_2         0.811319\n",
       "R_1         0.005772\n",
       "              ...   \n",
       "D_68_3.0    0.000000\n",
       "D_68_4.0    0.000000\n",
       "D_68_5.0    1.000000\n",
       "D_68_6.0    0.000000\n",
       "D_68_nan    0.000000\n",
       "Length: 233, dtype: float64"
      ]
     },
     "execution_count": 35,
     "metadata": {},
     "output_type": "execute_result"
    }
   ],
   "execution_count": 35
  },
  {
   "metadata": {
    "ExecuteTime": {
     "end_time": "2024-10-08T00:15:33.776177Z",
     "start_time": "2024-10-08T00:15:33.710005Z"
    }
   },
   "cell_type": "code",
   "source": "",
   "id": "6b0f5c0061a92a10",
   "outputs": [
    {
     "data": {
      "text/plain": [
       "[[0          False\n",
       "  1          False\n",
       "  2          False\n",
       "  3          False\n",
       "  4          False\n",
       "             ...  \n",
       "  1107077    False\n",
       "  1107078    False\n",
       "  1107079    False\n",
       "  1107080    False\n",
       "  1107081    False\n",
       "  Name: customer_ID, Length: 1107082, dtype: bool]]"
      ]
     },
     "execution_count": 34,
     "metadata": {},
     "output_type": "execute_result"
    }
   ],
   "execution_count": 34
  },
  {
   "metadata": {},
   "cell_type": "code",
   "outputs": [],
   "execution_count": null,
   "source": "",
   "id": "d81d4d014c83802d"
  }
 ],
 "metadata": {
  "kernelspec": {
   "display_name": "Python 3",
   "language": "python",
   "name": "python3"
  },
  "language_info": {
   "codemirror_mode": {
    "name": "ipython",
    "version": 2
   },
   "file_extension": ".py",
   "mimetype": "text/x-python",
   "name": "python",
   "nbconvert_exporter": "python",
   "pygments_lexer": "ipython2",
   "version": "2.7.6"
  }
 },
 "nbformat": 4,
 "nbformat_minor": 5
}
